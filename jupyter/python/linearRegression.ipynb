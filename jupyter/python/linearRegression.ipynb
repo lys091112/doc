{
 "cells": [
  {
   "cell_type": "code",
   "execution_count": 1,
   "metadata": {},
   "outputs": [],
   "source": [
    "import tensorflow as tf\n",
    "import numpy\n",
    "import matplotlib.pyplot as plt\n",
    "rng = numpy.random"
   ]
  },
  {
   "cell_type": "code",
   "execution_count": 5,
   "metadata": {},
   "outputs": [],
   "source": [
    "X = numpy.asarray([3.3,4.4,5.5,6.71,6.93,4.168,9.779,6.182,7.59,2.167,\n",
    "                         7.042,10.791,5.313,7.997,5.654,9.27,3.1])\n",
    "Y = numpy.asarray([1.7,2.76,2.09,3.19,1.694,1.573,3.366,2.596,2.53,1.221,\n",
    "                         2.827,3.465,1.65,2.904,2.42,2.94,1.3])\n",
    "n_samples = X.shape[0]"
   ]
  },
  {
   "cell_type": "code",
   "execution_count": 10,
   "metadata": {},
   "outputs": [
    {
     "name": "stdout",
     "output_type": "stream",
     "text": [
      "<tf.Variable 'weight:0' shape=() dtype=float32, numpy=0.6265369>\n",
      "<tf.Variable 'bias:0' shape=() dtype=float32, numpy=-0.7356707>\n"
     ]
    }
   ],
   "source": [
    "\n",
    "# Set model weights\n",
    "W = tf.Variable(rng.randn(), name=\"weight\")\n",
    "b = tf.Variable(rng.randn(), name=\"bias\")\n",
    "print(W)\n",
    "print(b)\n",
    "\n",
    "learning_rate = 0.01  # 学习率\n",
    "# 线性回归函数\n",
    "def linear_regression(x):\n",
    "    return W*x + b\n",
    "\n",
    "# 损失函数\n",
    "def mean_square(y_pred, y_true):\n",
    "    return tf.reduce_sum(tf.pow(y_pred-y_true, 2)) / (2 * n_samples)\n",
    "\n",
    "# 优化器采用随机梯度下降(SGD)\n",
    "optimizer = tf.optimizers.SGD(learning_rate)"
   ]
  },
  {
   "cell_type": "code",
   "execution_count": 7,
   "metadata": {},
   "outputs": [
    {
     "name": "stdout",
     "output_type": "stream",
     "text": [
      "step: 50, loss: 0.157835, W: 0.412896, b: -0.344466\n",
      "step: 100, loss: 0.148581, W: 0.403394, b: -0.277104\n",
      "step: 150, loss: 0.140386, W: 0.394452, b: -0.213710\n",
      "step: 200, loss: 0.133129, W: 0.386037, b: -0.154052\n",
      "step: 250, loss: 0.126701, W: 0.378118, b: -0.097909\n",
      "step: 300, loss: 0.121009, W: 0.370666, b: -0.045074\n",
      "step: 350, loss: 0.115967, W: 0.363652, b: 0.004648\n",
      "step: 400, loss: 0.111502, W: 0.357052, b: 0.051441\n",
      "step: 450, loss: 0.107548, W: 0.350841, b: 0.095476\n",
      "step: 500, loss: 0.104046, W: 0.344996, b: 0.136917\n",
      "step: 550, loss: 0.100945, W: 0.339495, b: 0.175916\n",
      "step: 600, loss: 0.098198, W: 0.334318, b: 0.212617\n",
      "step: 650, loss: 0.095766, W: 0.329446, b: 0.247155\n",
      "step: 700, loss: 0.093611, W: 0.324861, b: 0.279659\n",
      "step: 750, loss: 0.091703, W: 0.320547, b: 0.310248\n",
      "step: 800, loss: 0.090013, W: 0.316486, b: 0.339034\n",
      "step: 850, loss: 0.088517, W: 0.312665, b: 0.366124\n",
      "step: 900, loss: 0.087192, W: 0.309069, b: 0.391618\n",
      "step: 950, loss: 0.086018, W: 0.305685, b: 0.415609\n",
      "step: 1000, loss: 0.084978, W: 0.302501, b: 0.438187\n"
     ]
    }
   ],
   "source": [
    "training_steps = 1000  # 训练次数\n",
    "display_step = 50  # 训练50次输出一次\n",
    "\n",
    "# 计算梯度，更新参数\n",
    "def run_optimization():\n",
    "    # tf.GradientTape()梯度带，可以查看每一次epoch的参数值\n",
    "    with tf.GradientTape() as g:\n",
    "        pred = linear_regression(X)\n",
    "        loss = mean_square(pred, Y)\n",
    "    # 计算梯度\n",
    "    gradients = g.gradient(loss, [W, b])\n",
    "    # 更新W，b\n",
    "    optimizer.apply_gradients(zip(gradients, [W, b]))\n",
    "\n",
    "# 开始训练\n",
    "for step in range(1, training_steps+1):\n",
    "    run_optimization()\n",
    "    if step % display_step == 0:\n",
    "        pred = linear_regression(X)\n",
    "        loss = mean_square(pred, Y)\n",
    "        print(\"step: %i, loss: %f, W: %f, b: %f\" % (step, loss, W.numpy(), b.numpy()))"
   ]
  },
  {
   "cell_type": "code",
   "execution_count": 9,
   "metadata": {},
   "outputs": [
    {
     "data": {
      "image/png": "[encoded data removed]",
      "text/plain": [
       "<Figure size 432x288 with 1 Axes>"
      ]
     },
     "metadata": {
      "needs_background": "light"
     },
     "output_type": "display_data"
    }
   ],
   "source": [
    "import matplotlib.pyplot as plt\n",
    "\n",
    "plt.plot(X, Y, 'ro', label='Original data')\n",
    "plt.plot(X, numpy.array(W * X + b), label='Fitted line')\n",
    "plt.legend()\n",
    "plt.show()"
   ]
  },
  {
   "cell_type": "code",
   "execution_count": null,
   "metadata": {},
   "outputs": [],
   "source": []
  }
 ],
 "metadata": {
  "kernelspec": {
   "display_name": "Python 3",
   "language": "python",
   "name": "python3"
  },
  "language_info": {
   "codemirror_mode": {
    "name": "ipython",
    "version": 3
   },
   "file_extension": ".py",
   "mimetype": "text/x-python",
   "name": "python",
   "nbconvert_exporter": "python",
   "pygments_lexer": "ipython3",
   "version": "3.7.7"
  }
 },
 "nbformat": 4,
 "nbformat_minor": 2
}
