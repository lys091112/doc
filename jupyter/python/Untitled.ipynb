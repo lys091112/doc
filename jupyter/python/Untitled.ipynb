{
 "cells": [
  {
   "cell_type": "code",
   "execution_count": 1,
   "metadata": {},
   "outputs": [],
   "source": [
    "import tensorflow as tf\n",
    "import numpy\n",
    "import matplotlib.pyplot as plt\n",
    "rng = numpy.random"
   ]
  },
  {
   "cell_type": "code",
   "execution_count": 11,
   "metadata": {},
   "outputs": [],
   "source": [
    "X = numpy.asarray([3.3,4.4,5.5,6.71,6.93,4.168,9.779,6.182,7.59,2.167,\n",
    "                         7.042,10.791,5.313,7.997,5.654,9.27,3.1])\n",
    "Y = numpy.asarray([1.7,2.76,2.09,3.19,1.694,1.573,3.366,2.596,2.53,1.221,\n",
    "                         2.827,3.465,1.65,2.904,2.42,2.94,1.3])\n",
    "n_samples = train_X.shape[0]"
   ]
  },
  {
   "cell_type": "code",
   "execution_count": 12,
   "metadata": {},
   "outputs": [],
   "source": [
    "\n",
    "# Set model weights\n",
    "W = tf.Variable(rng.randn(), name=\"weight\")\n",
    "b = tf.Variable(rng.randn(), name=\"bias\")\n",
    "\n",
    "learning_rate = 0.01  # 学习率\n",
    "# 线性回归函数\n",
    "def linear_regression(x):\n",
    "    return W*x + b\n",
    "\n",
    "# 损失函数\n",
    "def mean_square(y_pred, y_true):\n",
    "    return tf.reduce_sum(tf.pow(y_pred-y_true, 2)) / (2 * n_samples)\n",
    "\n",
    "# 优化器采用随机梯度下降(SGD)\n",
    "optimizer = tf.optimizers.SGD(learning_rate)"
   ]
  },
  {
   "cell_type": "code",
   "execution_count": 13,
   "metadata": {},
   "outputs": [
    {
     "name": "stdout",
     "output_type": "stream",
     "text": [
      "step: 50, loss: 0.182109, W: 0.435503, b: -0.504741\n",
      "step: 100, loss: 0.170079, W: 0.424669, b: -0.427935\n",
      "step: 150, loss: 0.159426, W: 0.414474, b: -0.355654\n",
      "step: 200, loss: 0.149991, W: 0.404879, b: -0.287633\n",
      "step: 250, loss: 0.141634, W: 0.395850, b: -0.223619\n",
      "step: 300, loss: 0.134234, W: 0.387353, b: -0.163377\n",
      "step: 350, loss: 0.127680, W: 0.379356, b: -0.106684\n",
      "step: 400, loss: 0.121876, W: 0.371831, b: -0.053332\n",
      "step: 450, loss: 0.116735, W: 0.364749, b: -0.003123\n",
      "step: 500, loss: 0.112182, W: 0.358084, b: 0.044127\n",
      "step: 550, loss: 0.108150, W: 0.351812, b: 0.088593\n",
      "step: 600, loss: 0.104580, W: 0.345909, b: 0.130440\n",
      "step: 650, loss: 0.101417, W: 0.340354, b: 0.169820\n",
      "step: 700, loss: 0.098616, W: 0.335127, b: 0.206880\n",
      "step: 750, loss: 0.096136, W: 0.330207, b: 0.241757\n",
      "step: 800, loss: 0.093939, W: 0.325578, b: 0.274579\n",
      "step: 850, loss: 0.091994, W: 0.321221, b: 0.305466\n",
      "step: 900, loss: 0.090271, W: 0.317121, b: 0.334534\n",
      "step: 950, loss: 0.088745, W: 0.313263, b: 0.361889\n",
      "step: 1000, loss: 0.087393, W: 0.309631, b: 0.387633\n"
     ]
    }
   ],
   "source": [
    "training_steps = 1000  # 训练次数\n",
    "display_step = 50  # 训练50次输出一次\n",
    "\n",
    "# 计算梯度，更新参数\n",
    "def run_optimization():\n",
    "    # tf.GradientTape()梯度带，可以查看每一次epoch的参数值\n",
    "    with tf.GradientTape() as g:\n",
    "        pred = linear_regression(X)\n",
    "        loss = mean_square(pred, Y)\n",
    "    # 计算梯度\n",
    "    gradients = g.gradient(loss, [W, b])\n",
    "    # 更新W，b\n",
    "    optimizer.apply_gradients(zip(gradients, [W, b]))\n",
    "\n",
    "# 开始训练\n",
    "for step in range(1, training_steps+1):\n",
    "    run_optimization()\n",
    "    if step % display_step == 0:\n",
    "        pred = linear_regression(X)\n",
    "        loss = mean_square(pred, Y)\n",
    "        print(\"step: %i, loss: %f, W: %f, b: %f\" % (step, loss, W.numpy(), b.numpy()))"
   ]
  },
  {
   "cell_type": "code",
   "execution_count": 16,
   "metadata": {},
   "outputs": [
    {
     "data": {
      "image/png": "[encoded data removed]",
      "text/plain": [
       "<Figure size 432x288 with 1 Axes>"
      ]
     },
     "metadata": {
      "needs_background": "light"
     },
     "output_type": "display_data"
    }
   ],
   "source": [
    "import matplotlib.pyplot as plt\n",
    "\n",
    "plt.plot(X, Y, 'ro', label='Original data')\n",
    "plt.plot(X, numpy.array(W * X + b), label='Fitted line')\n",
    "plt.legend()\n",
    "plt.show()"
   ]
  },
  {
   "cell_type": "code",
   "execution_count": null,
   "metadata": {},
   "outputs": [],
   "source": []
  }
 ],
 "metadata": {
  "kernelspec": {
   "display_name": "Python 3",
   "language": "python",
   "name": "python3"
  },
  "language_info": {
   "codemirror_mode": {
    "name": "ipython",
    "version": 3
   },
   "file_extension": ".py",
   "mimetype": "text/x-python",
   "name": "python",
   "nbconvert_exporter": "python",
   "pygments_lexer": "ipython3",
   "version": "3.6.9"
  }
 },
 "nbformat": 4,
 "nbformat_minor": 2
}
